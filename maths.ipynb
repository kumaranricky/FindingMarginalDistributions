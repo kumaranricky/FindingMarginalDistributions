{
 "cells": [
  {
   "cell_type": "code",
   "execution_count": 2,
   "id": "44cf7f5b",
   "metadata": {},
   "outputs": [],
   "source": [
    "import math\n",
    "import numpy as np\n",
    "p = [[0,0.01,0.03,0.05,0.07,0.09],\n",
    "    [0.01,0.02,0.04,0.05,0.06,0.08],\n",
    "     [0.01,0.03,0.05,0.05,0.05,0.06],\n",
    "    [0.01,0.02,0.04,0.06,0.06,0.05]]\n",
    "\n"
   ]
  },
  {
   "cell_type": "code",
   "execution_count": 3,
   "id": "1ba8d746",
   "metadata": {},
   "outputs": [
    {
     "data": {
      "text/plain": [
       "array([0.03, 0.08, 0.16, 0.21, 0.24, 0.28])"
      ]
     },
     "execution_count": 3,
     "metadata": {},
     "output_type": "execute_result"
    }
   ],
   "source": [
    "px=np.sum(p,axis=0)\n",
    "px\n"
   ]
  },
  {
   "cell_type": "code",
   "execution_count": 4,
   "id": "d2ac1db2",
   "metadata": {},
   "outputs": [
    {
     "data": {
      "text/plain": [
       "array([0.25, 0.26, 0.25, 0.24])"
      ]
     },
     "execution_count": 4,
     "metadata": {},
     "output_type": "execute_result"
    }
   ],
   "source": [
    "py=np.sum(p,axis=1)\n",
    "py"
   ]
  },
  {
   "cell_type": "code",
   "execution_count": 5,
   "id": "50328d5b",
   "metadata": {},
   "outputs": [],
   "source": [
    "x=[0,1,2,3,4,5]\n",
    "ex=np.inner(x,px)\n",
    "y=[0,1,2,3]\n",
    "ey=np.inner(y,py)"
   ]
  },
  {
   "cell_type": "code",
   "execution_count": 6,
   "id": "3b3625fe",
   "metadata": {},
   "outputs": [],
   "source": [
    "ex2=np.inner(np.square(x),px)"
   ]
  },
  {
   "cell_type": "code",
   "execution_count": 7,
   "id": "d37e0f9f",
   "metadata": {},
   "outputs": [
    {
     "data": {
      "text/plain": [
       "13.45"
      ]
     },
     "execution_count": 7,
     "metadata": {},
     "output_type": "execute_result"
    }
   ],
   "source": [
    "ex2"
   ]
  },
  {
   "cell_type": "code",
   "execution_count": 8,
   "id": "51f4752e",
   "metadata": {},
   "outputs": [],
   "source": [
    "ey2=np.inner(np.square(y),py)"
   ]
  },
  {
   "cell_type": "code",
   "execution_count": 9,
   "id": "9aff2553",
   "metadata": {},
   "outputs": [
    {
     "data": {
      "text/plain": [
       "3.42"
      ]
     },
     "execution_count": 9,
     "metadata": {},
     "output_type": "execute_result"
    }
   ],
   "source": [
    "ey2"
   ]
  },
  {
   "cell_type": "code",
   "execution_count": 10,
   "id": "39b82751",
   "metadata": {},
   "outputs": [],
   "source": [
    "vx=ex2-ex**2"
   ]
  },
  {
   "cell_type": "code",
   "execution_count": 11,
   "id": "cdeba4ff",
   "metadata": {},
   "outputs": [
    {
     "data": {
      "text/plain": [
       "1.9579000000000022"
      ]
     },
     "execution_count": 11,
     "metadata": {},
     "output_type": "execute_result"
    }
   ],
   "source": [
    "sx=math.sqrt(vx)\n",
    "vx"
   ]
  },
  {
   "cell_type": "code",
   "execution_count": 12,
   "id": "3ff52f27",
   "metadata": {},
   "outputs": [
    {
     "data": {
      "text/plain": [
       "1.3992497989994503"
      ]
     },
     "execution_count": 12,
     "metadata": {},
     "output_type": "execute_result"
    }
   ],
   "source": [
    "sx"
   ]
  },
  {
   "cell_type": "code",
   "execution_count": 13,
   "id": "9f0dc3ec",
   "metadata": {},
   "outputs": [],
   "source": [
    "vy=ey2-ey**2"
   ]
  },
  {
   "cell_type": "code",
   "execution_count": 14,
   "id": "f3c90593",
   "metadata": {},
   "outputs": [
    {
     "data": {
      "text/plain": [
       "1.2296"
      ]
     },
     "execution_count": 14,
     "metadata": {},
     "output_type": "execute_result"
    }
   ],
   "source": [
    "vy"
   ]
  },
  {
   "cell_type": "code",
   "execution_count": 15,
   "id": "2ee9af28",
   "metadata": {},
   "outputs": [
    {
     "data": {
      "text/plain": [
       "1.108873302050329"
      ]
     },
     "execution_count": 15,
     "metadata": {},
     "output_type": "execute_result"
    }
   ],
   "source": [
    "sy=math.sqrt(vy)\n",
    "sy"
   ]
  },
  {
   "cell_type": "code",
   "execution_count": 22,
   "id": "de85a9da",
   "metadata": {},
   "outputs": [],
   "source": [
    "exy=0\n",
    "for i in range(4):\n",
    "    for j in range(6):\n",
    "        exy=exy+x[j]*y[i]*p[i][j]\n",
    "        "
   ]
  },
  {
   "cell_type": "code",
   "execution_count": 23,
   "id": "bc7dc8bd",
   "metadata": {},
   "outputs": [
    {
     "data": {
      "text/plain": [
       "-0.1657653610188162"
      ]
     },
     "execution_count": 23,
     "metadata": {},
     "output_type": "execute_result"
    }
   ],
   "source": [
    "cov=exy-ex*ey\n",
    "r=cov/(sx*sy)\n",
    "r"
   ]
  },
  {
   "cell_type": "code",
   "execution_count": 24,
   "id": "24006c6a",
   "metadata": {},
   "outputs": [
    {
     "data": {
      "text/html": [
       "<div>\n",
       "<style scoped>\n",
       "    .dataframe tbody tr th:only-of-type {\n",
       "        vertical-align: middle;\n",
       "    }\n",
       "\n",
       "    .dataframe tbody tr th {\n",
       "        vertical-align: top;\n",
       "    }\n",
       "\n",
       "    .dataframe thead th {\n",
       "        text-align: right;\n",
       "    }\n",
       "</style>\n",
       "<table border=\"1\" class=\"dataframe\">\n",
       "  <thead>\n",
       "    <tr style=\"text-align: right;\">\n",
       "      <th></th>\n",
       "      <th>0</th>\n",
       "      <th>1</th>\n",
       "      <th>2</th>\n",
       "      <th>3</th>\n",
       "      <th>4</th>\n",
       "      <th>5</th>\n",
       "    </tr>\n",
       "  </thead>\n",
       "  <tbody>\n",
       "    <tr>\n",
       "      <th>0</th>\n",
       "      <td>0.00</td>\n",
       "      <td>0.01</td>\n",
       "      <td>0.03</td>\n",
       "      <td>0.05</td>\n",
       "      <td>0.07</td>\n",
       "      <td>0.09</td>\n",
       "    </tr>\n",
       "    <tr>\n",
       "      <th>1</th>\n",
       "      <td>0.01</td>\n",
       "      <td>0.02</td>\n",
       "      <td>0.04</td>\n",
       "      <td>0.05</td>\n",
       "      <td>0.06</td>\n",
       "      <td>0.08</td>\n",
       "    </tr>\n",
       "    <tr>\n",
       "      <th>2</th>\n",
       "      <td>0.01</td>\n",
       "      <td>0.03</td>\n",
       "      <td>0.05</td>\n",
       "      <td>0.05</td>\n",
       "      <td>0.05</td>\n",
       "      <td>0.06</td>\n",
       "    </tr>\n",
       "    <tr>\n",
       "      <th>3</th>\n",
       "      <td>0.01</td>\n",
       "      <td>0.02</td>\n",
       "      <td>0.04</td>\n",
       "      <td>0.06</td>\n",
       "      <td>0.06</td>\n",
       "      <td>0.05</td>\n",
       "    </tr>\n",
       "  </tbody>\n",
       "</table>\n",
       "</div>"
      ],
      "text/plain": [
       "      0     1     2     3     4     5\n",
       "0  0.00  0.01  0.03  0.05  0.07  0.09\n",
       "1  0.01  0.02  0.04  0.05  0.06  0.08\n",
       "2  0.01  0.03  0.05  0.05  0.05  0.06\n",
       "3  0.01  0.02  0.04  0.06  0.06  0.05"
      ]
     },
     "metadata": {},
     "output_type": "display_data"
    },
    {
     "name": "stdout",
     "output_type": "stream",
     "text": [
      "Variance of X:\t\t\t\t 1.9579000000000022\n",
      "Variance of Y:\t\t\t\t 1.2296\n",
      "Standard deviation of X:\t\t 1.3992497989994503\n",
      "Standard deviation of Y:\t\t 1.108873302050329\n",
      "Covariance:\t\t\t\t -0.2572\n",
      "Covariance Coefficient of Corelation:\t -0.1658\n"
     ]
    }
   ],
   "source": [
    "import pandas as pd\n",
    "pdf_df=pd.DataFrame(p)\n",
    "display(pdf_df)\n",
    "print(\"Variance of X:\\t\\t\\t\\t\",vx)\n",
    "print(\"Variance of Y:\\t\\t\\t\\t\",vy)\n",
    "print(\"Standard deviation of X:\\t\\t\",sx)\n",
    "print(\"Standard deviation of Y:\\t\\t\",sy)\n",
    "print(\"Covariance:\\t\\t\\t\\t\",cov.round(4))\n",
    "print(\"Covariance Coefficient of Corelation:\\t\",r.round(4))"
   ]
  },
  {
   "cell_type": "code",
   "execution_count": null,
   "id": "3fb39711",
   "metadata": {},
   "outputs": [],
   "source": []
  }
 ],
 "metadata": {
  "kernelspec": {
   "display_name": "Python 3",
   "language": "python",
   "name": "python3"
  },
  "language_info": {
   "codemirror_mode": {
    "name": "ipython",
    "version": 3
   },
   "file_extension": ".py",
   "mimetype": "text/x-python",
   "name": "python",
   "nbconvert_exporter": "python",
   "pygments_lexer": "ipython3",
   "version": "3.8.8"
  }
 },
 "nbformat": 4,
 "nbformat_minor": 5
}
